{
 "metadata": {
  "language_info": {
   "codemirror_mode": {
    "name": "ipython",
    "version": 3
   },
   "file_extension": ".py",
   "mimetype": "text/x-python",
   "name": "python",
   "nbconvert_exporter": "python",
   "pygments_lexer": "ipython3",
   "version": "3.7.9-final"
  },
  "orig_nbformat": 2,
  "kernelspec": {
   "name": "python3",
   "display_name": "Python 3.7.9 64-bit",
   "metadata": {
    "interpreter": {
     "hash": "0600588c3b5f4418cbe7b5ebc6825b479f3bc010269d8b60d75058cdd010adfe"
    }
   }
  }
 },
 "nbformat": 4,
 "nbformat_minor": 2,
 "cells": [
  {
   "cell_type": "code",
   "execution_count": 33,
   "metadata": {},
   "outputs": [
    {
     "output_type": "stream",
     "name": "stdout",
     "text": [
      "Detected labels for Fotos-7-12-2020/20000101005721333_1_1SHP373_1_3.jpg\n\nLabel: Vehicle\nConfidence: 99.8608627319336\nInstances:\nParents:\n   Transportation\n----------\n\nLabel: Transportation\nConfidence: 99.8608627319336\nInstances:\nParents:\n----------\n\nLabel: Car\nConfidence: 99.8608627319336\nInstances:\n  Bounding box\n    Top: 0.05761801451444626\n    Left: 0.20876814424991608\n    Width: 0.5992145538330078\n    Height: 0.8055244088172913\n  Confidence: 99.8608627319336\n\nParents:\n   Vehicle\n   Transportation\n----------\n\nLabel: Automobile\nConfidence: 99.8608627319336\nInstances:\nParents:\n   Vehicle\n   Transportation\n----------\n\nLabel: Windshield\nConfidence: 99.01040649414062\nInstances:\nParents:\n----------\n\nLabel: Person\nConfidence: 95.28678894042969\nInstances:\n  Bounding box\n    Top: 0.12953482568264008\n    Left: 0.5191332697868347\n    Width: 0.11250686645507812\n    Height: 0.15746502578258514\n  Confidence: 95.28678894042969\n\nParents:\n----------\n\nLabel: Human\nConfidence: 95.28678894042969\nInstances:\nParents:\n----------\n\nLabel: Tire\nConfidence: 72.15065002441406\nInstances:\nParents:\n----------\n\nLabel: Light\nConfidence: 59.3077507019043\nInstances:\nParents:\n----------\n\nLabel: License Plate\nConfidence: 57.34829330444336\nInstances:\n  Bounding box\n    Top: 0.6432332396507263\n    Left: 0.4678606688976288\n    Width: 0.1783137023448944\n    Height: 0.0719316378235817\n  Confidence: 57.34829330444336\n\nParents:\n   Vehicle\n   Transportation\n----------\n\nLabels detected: 10\n"
     ]
    }
   ],
   "source": [
    "#Copyright 2018 Amazon.com, Inc. or its affiliates. All Rights Reserved.\n",
    "#PDX-License-Identifier: MIT-0 (For details, see https://github.com/awsdocs/amazon-rekognition-developer-guide/blob/master/LICENSE-SAMPLECODE.)\n",
    "\n",
    "import boto3\n",
    "\n",
    "def detect_labels(photo, bucket):\n",
    "\n",
    "    client=boto3.client('rekognition')\n",
    "\n",
    "    response = client.detect_labels(Image={'S3Object':{'Bucket':bucket,'Name':photo}},\n",
    "        MaxLabels=10)\n",
    "\n",
    "    print('Detected labels for ' + photo) \n",
    "    print()   \n",
    "    for label in response['Labels']:\n",
    "        print (\"Label: \" + label['Name'])\n",
    "        print (\"Confidence: \" + str(label['Confidence']))\n",
    "        print (\"Instances:\")\n",
    "        for instance in label['Instances']:\n",
    "            print (\"  Bounding box\")\n",
    "            print (\"    Top: \" + str(instance['BoundingBox']['Top']))\n",
    "            print (\"    Left: \" + str(instance['BoundingBox']['Left']))\n",
    "            print (\"    Width: \" +  str(instance['BoundingBox']['Width']))\n",
    "            print (\"    Height: \" +  str(instance['BoundingBox']['Height']))\n",
    "            print (\"  Confidence: \" + str(instance['Confidence']))\n",
    "            print()\n",
    "\n",
    "        print (\"Parents:\")\n",
    "        for parent in label['Parents']:\n",
    "            print (\"   \" + parent['Name'])\n",
    "        print (\"----------\")\n",
    "        print ()\n",
    "    return len(response['Labels'])\n",
    "\n",
    "\n",
    "def main():\n",
    "    photo='Fotos-7-12-2020/20000101005721333_1_1SHP373_1_3.jpg'\n",
    "    bucket='ai-essentials-anpr'\n",
    "    label_count=detect_labels(photo, bucket)\n",
    "    print(\"Labels detected: \" + str(label_count))\n",
    "\n",
    "\n",
    "if __name__ == \"__main__\":\n",
    "    main()\n",
    "\n",
    "\n",
    "\n",
    "\n"
   ]
  },
  {
   "cell_type": "code",
   "execution_count": null,
   "metadata": {},
   "outputs": [],
   "source": []
  },
  {
   "cell_type": "code",
   "execution_count": 37,
   "metadata": {},
   "outputs": [],
   "source": [
    "# Improting Image class from PIL module \n",
    "from PIL import Image\n",
    "\n",
    "# Opens a image in RGB mode \n",
    "im = Image.open(r\"C:\\ANPR_FOTOS\\Alarm Picture\\Fotos-7-12-2020\\20000101005721333_1_1SHP373_1_3.jpg\")\n",
    "\n",
    "(left, upper, right, lower) = (597, 126, 1410, 350)\n",
    "\n",
    "im_crop = im.crop((left, upper, right, lower))\n",
    "\n",
    "im_crop.show()\n"
   ]
  },
  {
   "cell_type": "code",
   "execution_count": 32,
   "metadata": {
    "tags": []
   },
   "outputs": [],
   "source": [
    "# from boto3 import client\n",
    "# conn = client('s3')\n",
    "# for key in conn.list_objects(Bucket='ai-essentials-anpr')['Contents']:\n",
    "#     print(key['Key'])"
   ]
  },
  {
   "cell_type": "code",
   "execution_count": null,
   "metadata": {},
   "outputs": [],
   "source": []
  }
 ]
}