{
 "metadata": {
  "language_info": {
   "codemirror_mode": {
    "name": "ipython",
    "version": 3
   },
   "file_extension": ".py",
   "mimetype": "text/x-python",
   "name": "python",
   "nbconvert_exporter": "python",
   "pygments_lexer": "ipython3",
   "version": "3.7.9-final"
  },
  "orig_nbformat": 2,
  "kernelspec": {
   "name": "python3",
   "display_name": "Python 3.7.9 64-bit",
   "metadata": {
    "interpreter": {
     "hash": "0600588c3b5f4418cbe7b5ebc6825b479f3bc010269d8b60d75058cdd010adfe"
    }
   }
  }
 },
 "nbformat": 4,
 "nbformat_minor": 2,
 "cells": [
  {
   "cell_type": "code",
   "execution_count": null,
   "metadata": {},
   "outputs": [],
   "source": [
    "# Importing Image class from PIL module \n",
    "from PIL import Image\n",
    "import boto3"
   ]
  },
  {
   "cell_type": "code",
   "execution_count": null,
   "metadata": {},
   "outputs": [],
   "source": [
    "#returns the different labels of objects that are found in the photo\n",
    "def detect_labels(photo, bucket):\n",
    "\n",
    "    client=boto3.client('rekognition')\n",
    "\n",
    "    response = client.detect_labels(Image={'S3Object':{'Bucket':bucket,'Name':photo}},\n",
    "        MaxLabels=15)\n",
    "\n",
    "    return (response['Labels'])"
   ]
  },
  {
   "cell_type": "code",
   "execution_count": null,
   "metadata": {},
   "outputs": [],
   "source": [
    "#checks if a person is detected in the photo and returns the objectbox values\n",
    "def getPersonObjectBox(labels):\n",
    "\n",
    "    for label in labels:\n",
    "        if label['Name'] == \"Person\":\n",
    "            for instance in label['Instances']:\n",
    "                personObjectBox = {\n",
    "                    \"Type\": \"Person\",\n",
    "                    \"width\": instance['BoundingBox']['Width'],\n",
    "                    \"height\": instance['BoundingBox']['Height'],\n",
    "                    \"top\": instance['BoundingBox']['Top'],\n",
    "                    \"left\": instance['BoundingBox']['Left'],\n",
    "                }\n",
    "                return personObjectBox\n",
    "            else:\n",
    "                return False"
   ]
  },
  {
   "cell_type": "code",
   "execution_count": null,
   "metadata": {},
   "outputs": [],
   "source": [
    "def cropImage(left, upper, right, lower, index, path):\n",
    "\n",
    "    #change path to use \\ for windows compatibility\n",
    "\n",
    "    path = path.replace('/', '\\\\')\n",
    "\n",
    "    # Opens a image in RGB mode \n",
    "    im = Image.open(f'C:\\ANPR_FOTOS\\Alarm Picture\\{path}')\n",
    "\n",
    "    im_crop = im.crop((left, upper, right, lower))\n",
    "\n",
    "    im_crop.save(f'C:\\ANPR_FOTOS\\Alarm Picture\\Cropped\\cropped{index}.jpg', 'JPEG')"
   ]
  },
  {
   "cell_type": "code",
   "execution_count": null,
   "metadata": {},
   "outputs": [],
   "source": [
    "def calculateCoordinates(imageWidth, imageHeight, person):\n",
    "\n",
    "    print(f'HIERE: {person}')\n",
    "\n",
    "    #calculate the coördinates of the person objectBox \n",
    "\n",
    "    #calculate top/left (x,y) coördinate\n",
    "\n",
    "    x1 = imageWidth * person['left']\n",
    "    y1 = imageHeight * person['top']\n",
    "\n",
    "    #calculate bottom/right (x,y) coördinate\n",
    "\n",
    "    x2 = x1 + imageWidth * person['width']\n",
    "    y2 = y1 + imageHeight * person['height']\n",
    "\n",
    "    #add margins to get the windshield of the car left - 40%, right + 20%, top - 15% and bottom + 15%\n",
    "    \n",
    "    x1 = x1 - x1 * 0.4\n",
    "    y1 = y1 - y1 * 0.15\n",
    "\n",
    "    x2 = x2 + x2 * 0.2\n",
    "    y2 = y2 + y2 * 0.15\n",
    "\n",
    "    coordinates = {\n",
    "        \"x1\": x1,\n",
    "        \"y1\": y1,\n",
    "        \"x2\": x2,\n",
    "        \"y2\": y2,\n",
    "    }\n",
    "\n",
    "    return coordinates"
   ]
  },
  {
   "cell_type": "code",
   "execution_count": null,
   "metadata": {},
   "outputs": [],
   "source": [
    "def main():\n",
    "    # photo='Fotos-7-12-2020/20000101005741860_1_1SHP373_1_8.jpg'\n",
    "    bucket='ai-essentials-anpr'\n",
    "\n",
    "    #connect to the aws s3 bucket\n",
    "\n",
    "    conn = client('s3')\n",
    "\n",
    "    #loop over a list of all images in the s3 bucket and crop all windshields out of the photographs\n",
    "    #enumerate is used to keep track of the index in the loop\n",
    "    for index, key in enumerate(conn.list_objects(Bucket='ai-essentials-anpr')['Contents']):\n",
    "        #key['Key'] is the name of a photo in the s3 bucket\n",
    "        labels=detect_labels(key['Key'], bucket)\n",
    "\n",
    "        person = getPersonObjectBox(labels)\n",
    "\n",
    "        if(person):\n",
    "            #image dimensions\n",
    "            imageWidth = 1920\n",
    "            imageHeight = 1144\n",
    "\n",
    "            coordinates = calculateCoordinates(imageWidth, imageHeight, person)\n",
    "\n",
    "            print(coordinates['x1'], coordinates['y1'])\n",
    "            print(coordinates['x2'], coordinates['y2'])\n",
    "\n",
    "            cropImage(coordinates['x1'], coordinates['y1'], coordinates['x2'], coordinates['y2'], index, key['Key'])\n",
    "        else:\n",
    "            print('No person detected')\n",
    "        \n",
    "\n",
    "\n",
    "if __name__ == \"__main__\":\n",
    "    main()\n"
   ]
  }
 ]
}