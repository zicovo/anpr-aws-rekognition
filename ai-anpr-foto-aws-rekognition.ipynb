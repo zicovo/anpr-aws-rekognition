{
 "metadata": {
  "language_info": {
   "codemirror_mode": {
    "name": "ipython",
    "version": 3
   },
   "file_extension": ".py",
   "mimetype": "text/x-python",
   "name": "python",
   "nbconvert_exporter": "python",
   "pygments_lexer": "ipython3",
   "version": "3.7.9-final"
  },
  "orig_nbformat": 2,
  "kernelspec": {
   "name": "python3",
   "display_name": "Python 3.7.9 64-bit",
   "metadata": {
    "interpreter": {
     "hash": "0600588c3b5f4418cbe7b5ebc6825b479f3bc010269d8b60d75058cdd010adfe"
    }
   }
  }
 },
 "nbformat": 4,
 "nbformat_minor": 2,
 "cells": [
  {
   "cell_type": "code",
   "execution_count": 82,
   "metadata": {},
   "outputs": [
    {
     "output_type": "stream",
     "name": "stdout",
     "text": [
      "579.2780456542969 153.47192130088806\n1371.0764980316162 386.1461537063122\n"
     ]
    }
   ],
   "source": [
    "#Copyright 2018 Amazon.com, Inc. or its affiliates. All Rights Reserved.\n",
    "#PDX-License-Identifier: MIT-0 (For details, see https://github.com/awsdocs/amazon-rekognition-developer-guide/blob/master/LICENSE-SAMPLECODE.)\n",
    "\n",
    "# Importing Image class from PIL module \n",
    "from PIL import Image\n",
    "import boto3\n",
    "\n",
    "#returns the different labels of objects that are found in the photo\n",
    "def detect_labels(photo, bucket):\n",
    "\n",
    "    client=boto3.client('rekognition')\n",
    "\n",
    "    response = client.detect_labels(Image={'S3Object':{'Bucket':bucket,'Name':photo}},\n",
    "        MaxLabels=10)\n",
    "\n",
    "    return (response['Labels'])\n",
    "\n",
    "\n",
    "#checks if a person is detected in the photo and returns the objectbox values\n",
    "def getPersonObjectBox(labels):\n",
    "\n",
    "\n",
    "    for label in labels:\n",
    "        if label['Name'] == \"Person\":\n",
    "            for instance in label['Instances']:\n",
    "                personObjectBox = {\n",
    "                    \"Type\": \"Person\",\n",
    "                    \"width\": instance['BoundingBox']['Width'],\n",
    "                    \"height\": instance['BoundingBox']['Height'],\n",
    "                    \"top\": instance['BoundingBox']['Top'],\n",
    "                    \"left\": instance['BoundingBox']['Left'],\n",
    "                }\n",
    "                return personObjectBox\n",
    "            else:\n",
    "                return 'No person was found!'\n",
    "\n",
    "def cropImage(left, upper, right, lower):\n",
    "\n",
    "    # Opens a image in RGB mode \n",
    "    im = Image.open(r\"C:\\ANPR_FOTOS\\Alarm Picture\\Fotos-7-12-2020\\20000101005721333_1_1SHP373_1_3.jpg\")\n",
    "\n",
    "    im_crop = im.crop((left, upper, right, lower))\n",
    "\n",
    "    im_crop.show()\n",
    "\n",
    "\n",
    "\n",
    "def main():\n",
    "    photo='Fotos-7-12-2020/20000101005741860_1_1SHP373_1_8.jpg'\n",
    "    bucket='ai-essentials-anpr'\n",
    "\n",
    "\n",
    "    labels=detect_labels(photo, bucket)\n",
    "\n",
    "    person = getPersonObjectBox(labels)\n",
    "\n",
    "    #calculate the coördinates of the person objectBox \n",
    "\n",
    "    #calculate top/left (x,y) coördinate\n",
    "\n",
    "    #image dimensions\n",
    "    imageWidth = 1920\n",
    "    imageHeight = 1144\n",
    "\n",
    "    x1 = imageWidth * person['left']\n",
    "    y1 = imageHeight * person['top']\n",
    "\n",
    "    #calculate bottom/right (x,y) coördinate\n",
    "\n",
    "    x2 = x1 + imageWidth * person['width']\n",
    "    y2 = y1 + imageHeight * person['height']\n",
    "\n",
    "    #add margins to get the windshield of the car left - 40%, right + 20%, top - 15% and bottom + 15%\n",
    "    \n",
    "    x1 = x1 - x1 * 0.4\n",
    "    y1 = y1 - y1 * 0.15\n",
    "\n",
    "    x2 = x2 + x2 * 0.2\n",
    "    y2 = y2 + y2 * 0.15\n",
    "\n",
    "    print(x1, y1)\n",
    "    print(x2, y2)\n",
    "\n",
    "    cropImage(x1, y1, x2, y2)\n",
    "\n",
    "\n",
    "if __name__ == \"__main__\":\n",
    "    main()\n",
    "\n",
    "\n",
    "\n",
    "\n"
   ]
  },
  {
   "cell_type": "code",
   "execution_count": 37,
   "metadata": {},
   "outputs": [],
   "source": [
    "\n",
    "\n"
   ]
  },
  {
   "cell_type": "code",
   "execution_count": 46,
   "metadata": {
    "tags": []
   },
   "outputs": [],
   "source": [
    "# from boto3 import client\n",
    "\n",
    "# conn = client('s3')\n",
    "# for key in conn.list_objects(Bucket='ai-essentials-anpr')['Contents']:\n",
    "#     print(key['Key'])"
   ]
  },
  {
   "cell_type": "code",
   "execution_count": null,
   "metadata": {},
   "outputs": [],
   "source": []
  }
 ]
}